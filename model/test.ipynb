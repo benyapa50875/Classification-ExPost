{
 "cells": [
  {
   "cell_type": "code",
   "execution_count": 1,
   "metadata": {},
   "outputs": [],
   "source": [
    "import numpy as np\n",
    "import tensorflow as tf\n",
    "import cv2\n",
    "import mediapipe as mp"
   ]
  },
  {
   "cell_type": "code",
   "execution_count": 2,
   "metadata": {},
   "outputs": [],
   "source": [
    "def zero_padding(array):\n",
    "    threshold = 70\n",
    "    if array.shape[0] > threshold:\n",
    "        return array[:threshold, :, :]\n",
    "    elif array.shape[0] < threshold:\n",
    "        padding = ((0, threshold - array.shape[0]), (0, 0), (0, 0))\n",
    "        return np.pad(array, padding, mode='constant', constant_values=0)\n",
    "    else:\n",
    "        return array\n",
    "\n",
    "def extract_landmarks(path: str):\n",
    "\n",
    "    mp_pose = mp.solutions.pose.Pose(min_detection_confidence=0.5, min_tracking_confidence=0.5)\n",
    "\n",
    "    cap = cv2.VideoCapture(path)\n",
    "    if not cap.isOpened():\n",
    "        print(f\"Error: Could not open video {path}.\")\n",
    "        return\n",
    "    \n",
    "    data = []\n",
    "\n",
    "    with mp_pose as pose:\n",
    "        while cap.isOpened():\n",
    "            ret, frame = cap.read()\n",
    "            if not ret:\n",
    "                break\n",
    "        \n",
    "            rgb_frame = cv2.cvtColor(frame, cv2.COLOR_BGR2RGB)\n",
    "            results = pose.process(rgb_frame)\n",
    "\n",
    "            if results.pose_landmarks:\n",
    "                landmarks = [[point.x, point.y, point.z] for point in results.pose_landmarks.landmark]\n",
    "                data.append(landmarks)\n",
    "\n",
    "    cap.release()\n",
    "    np_data = np.array(data)\n",
    "    return np_data    "
   ]
  },
  {
   "cell_type": "code",
   "execution_count": 3,
   "metadata": {},
   "outputs": [
    {
     "name": "stderr",
     "output_type": "stream",
     "text": [
      "C:\\Users\\ASUS\\AppData\\Local\\Packages\\PythonSoftwareFoundation.Python.3.9_qbz5n2kfra8p0\\LocalCache\\local-packages\\Python39\\site-packages\\google\\protobuf\\symbol_database.py:55: UserWarning: SymbolDatabase.GetPrototype() is deprecated. Please use message_factory.GetMessageClass() instead. SymbolDatabase.GetPrototype() will be removed soon.\n",
      "  warnings.warn('SymbolDatabase.GetPrototype() is deprecated. Please '\n"
     ]
    }
   ],
   "source": [
    "x = zero_padding( extract_landmarks( \"./sideraise.mp4\") )"
   ]
  },
  {
   "cell_type": "code",
   "execution_count": 4,
   "metadata": {},
   "outputs": [
    {
     "data": {
      "text/plain": [
       "(1, 70, 33, 3)"
      ]
     },
     "execution_count": 4,
     "metadata": {},
     "output_type": "execute_result"
    }
   ],
   "source": [
    "x1 = np.expand_dims(  x, axis=0 )\n",
    "x1.shape"
   ]
  },
  {
   "cell_type": "code",
   "execution_count": 5,
   "metadata": {},
   "outputs": [
    {
     "name": "stderr",
     "output_type": "stream",
     "text": [
      "WARNING:absl:Compiled the loaded model, but the compiled metrics have yet to be built. `model.compile_metrics` will be empty until you train or evaluate the model.\n"
     ]
    },
    {
     "name": "stdout",
     "output_type": "stream",
     "text": [
      "\u001b[1m1/1\u001b[0m \u001b[32m━━━━━━━━━━━━━━━━━━━━\u001b[0m\u001b[37m\u001b[0m \u001b[1m0s\u001b[0m 190ms/step\n",
      "[0.0205753, 0.9147661, 6.711563e-06, 0.063961275, 5.651695e-07, 0.00069001416]\n",
      "num class :  6\n",
      "index :  1\n",
      "class :  Curl\n",
      "confident : 91.48 %\n"
     ]
    }
   ],
   "source": [
    "# x = np.load(\"./squat.npy\")\n",
    "\n",
    "model = tf.keras.models.load_model(\"model.h5\")\n",
    "\n",
    "x1 = np.expand_dims(x, axis=0)\n",
    "x1.shape\n",
    "\n",
    "maps = {\n",
    "    0: \"Lateral Side Raise\",\n",
    "    1: \"Curl\",\n",
    "    2: \"Leg Raise\",\n",
    "    3: \"Over-Head Press\",\n",
    "    4: \"Push-Up\",\n",
    "    5: \"Squat\",\n",
    "}\n",
    "\n",
    "predict = model.predict(x1)\n",
    "\n",
    "l_p = list(predict[0])\n",
    "confident = max(l_p)\n",
    "index = l_p.index(confident)\n",
    "print(l_p)\n",
    "print(\"num class : \", len(l_p))\n",
    "print(\"index : \", index)\n",
    "print(\"class : \", maps[index])\n",
    "print(\"confident : {:.2f} %\".format(confident * 100))"
   ]
  }
 ],
 "metadata": {
  "kernelspec": {
   "display_name": "NP",
   "language": "python",
   "name": "python3"
  },
  "language_info": {
   "codemirror_mode": {
    "name": "ipython",
    "version": 3
   },
   "file_extension": ".py",
   "mimetype": "text/x-python",
   "name": "python",
   "nbconvert_exporter": "python",
   "pygments_lexer": "ipython3",
   "version": "3.9.13"
  }
 },
 "nbformat": 4,
 "nbformat_minor": 2
}
